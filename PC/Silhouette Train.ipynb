{
 "cells": [
  {
   "cell_type": "code",
   "execution_count": 12,
   "metadata": {},
   "outputs": [],
   "source": [
    "import cv2\n",
    "import os\n",
    "import pandas as pd\n",
    "import numpy as np\n",
    "import random\n",
    "import sys\n",
    "import warnings \n",
    "import matplotlib.pyplot as plt\n",
    "%matplotlib inline\n",
    "warnings.filterwarnings('ignore')\n",
    "\n",
    "def load_images_from_folder(folder):\n",
    "    images = []\n",
    "    for filename in os.listdir(folder):\n",
    "        img = cv2.imread(os.path.join(folder,filename))\n",
    "        if img is not None:\n",
    "            images.append(img)\n",
    "    return images"
   ]
  },
  {
   "cell_type": "code",
   "execution_count": 13,
   "metadata": {},
   "outputs": [],
   "source": [
    "paper=load_images_from_folder('Paper')\n",
    "paper = np.array(paper)\n"
   ]
  },
  {
   "cell_type": "code",
   "execution_count": 14,
   "metadata": {},
   "outputs": [],
   "source": [
    "rock=load_images_from_folder('Stone')\n",
    "rock = np.array(rock)\n"
   ]
  },
  {
   "cell_type": "code",
   "execution_count": 15,
   "metadata": {},
   "outputs": [],
   "source": [
    "scissor=load_images_from_folder('Scissor')\n",
    "scissor = np.array(scissor)\n"
   ]
  },
  {
   "cell_type": "code",
   "execution_count": 16,
   "metadata": {},
   "outputs": [
    {
     "data": {
      "image/png": "[encoded data removed]",
      "text/plain": [
       "<Figure size 432x288 with 1 Axes>"
      ]
     },
     "metadata": {
      "needs_background": "light"
     },
     "output_type": "display_data"
    }
   ],
   "source": [
    "img=rock[0]\n",
    "#img123 = cv2.cvtColor(img123, cv2.COLOR_BGR2GRAY)\n",
    "#img123 = cv2.resize(img123, (48, 48))\n",
    "plt.imshow(img)\n",
    "plt.show()"
   ]
  },
  {
   "cell_type": "code",
   "execution_count": 17,
   "metadata": {},
   "outputs": [],
   "source": [
    "Combined=pd.DataFrame()"
   ]
  },
  {
   "cell_type": "code",
   "execution_count": 18,
   "metadata": {},
   "outputs": [
    {
     "name": "stdout",
     "output_type": "stream",
     "text": [
      "Rock: 550\n",
      "Paper: 549\n",
      "Scissor 550\n"
     ]
    }
   ],
   "source": [
    "print(\"Rock:\",len(rock))\n",
    "print(\"Paper:\",len(paper))\n",
    "print(\"Scissor\",len(scissor))"
   ]
  },
  {
   "cell_type": "code",
   "execution_count": 19,
   "metadata": {},
   "outputs": [
    {
     "data": {
      "text/plain": [
       "2"
      ]
     },
     "execution_count": 19,
     "metadata": {},
     "output_type": "execute_result"
    }
   ],
   "source": [
    "labels=[]\n",
    "for i in range(0,550):\n",
    "    labels.append(0)\n",
    "for i in range(0,549):\n",
    "    labels.append(1)\n",
    "for i in range(0,550):\n",
    "    labels.append(2)\n",
    "    \n",
    "labels[-1]"
   ]
  },
  {
   "cell_type": "code",
   "execution_count": 20,
   "metadata": {},
   "outputs": [],
   "source": [
    "img=[]\n",
    "for i in range(0,550):\n",
    "    image=rock[i]\n",
    "    image = cv2.cvtColor(image, cv2.COLOR_BGR2GRAY)\n",
    "    image = cv2.resize(image, (100, 100))\n",
    "    img.append(image)\n",
    "for i in range(0,549):\n",
    "    image=paper[i]\n",
    "    image = cv2.cvtColor(image, cv2.COLOR_BGR2GRAY)\n",
    "    image = cv2.resize(image, (100, 100))\n",
    "    img.append(image)\n",
    "for i in range(0,550):\n",
    "    image=scissor[i]\n",
    "    image = cv2.cvtColor(image, cv2.COLOR_BGR2GRAY)\n",
    "    image = cv2.resize(image, (100, 100))\n",
    "    img.append(image)\n",
    "\n"
   ]
  },
  {
   "cell_type": "code",
   "execution_count": 21,
   "metadata": {},
   "outputs": [
    {
     "data": {
      "image/png": "[encoded data removed]",
      "text/plain": [
       "<Figure size 432x288 with 1 Axes>"
      ]
     },
     "metadata": {
      "needs_background": "light"
     },
     "output_type": "display_data"
    }
   ],
   "source": [
    "img12=img[-1]\n",
    "\n",
    "plt.imshow(img12)\n",
    "plt.show()"
   ]
  },
  {
   "cell_type": "code",
   "execution_count": 22,
   "metadata": {},
   "outputs": [
    {
     "data": {
      "text/plain": [
       "(1649, 100, 100, 1)"
      ]
     },
     "execution_count": 22,
     "metadata": {},
     "output_type": "execute_result"
    }
   ],
   "source": [
    "final=np.array(img)\n",
    "final = np.expand_dims(img, axis = 3)\n",
    "final.shape"
   ]
  },
  {
   "cell_type": "code",
   "execution_count": 23,
   "metadata": {},
   "outputs": [],
   "source": [
    "Combined[\"Labels\"]=labels\n",
    "Combined[\"Img\"]=img"
   ]
  },
  {
   "cell_type": "code",
   "execution_count": 24,
   "metadata": {},
   "outputs": [
    {
     "data": {
      "text/plain": [
       "(1649,)"
      ]
     },
     "execution_count": 24,
     "metadata": {},
     "output_type": "execute_result"
    }
   ],
   "source": [
    "Combined[\"Img\"].shape"
   ]
  },
  {
   "cell_type": "code",
   "execution_count": 25,
   "metadata": {},
   "outputs": [
    {
     "data": {
      "text/plain": [
       "(1649, 100, 100, 1)"
      ]
     },
     "execution_count": 25,
     "metadata": {},
     "output_type": "execute_result"
    }
   ],
   "source": [
    "final.shape"
   ]
  },
  {
   "cell_type": "code",
   "execution_count": 26,
   "metadata": {},
   "outputs": [
    {
     "name": "stdout",
     "output_type": "stream",
     "text": [
      "(1236, 100, 100, 1)\n"
     ]
    }
   ],
   "source": [
    "from sklearn.model_selection import train_test_split\n",
    "X_train, X_test, y_train, y_test = train_test_split( final, labels, test_size=0.25, random_state=42)\n",
    "print(X_train.shape)"
   ]
  },
  {
   "cell_type": "code",
   "execution_count": 27,
   "metadata": {},
   "outputs": [
    {
     "name": "stdout",
     "output_type": "stream",
     "text": [
      "1236\n",
      "1236\n",
      "413\n",
      "413\n"
     ]
    },
    {
     "data": {
      "image/png": "[encoded data removed]",
      "text/plain": [
       "<Figure size 432x288 with 1 Axes>"
      ]
     },
     "metadata": {
      "needs_background": "light"
     },
     "output_type": "display_data"
    },
    {
     "name": "stdout",
     "output_type": "stream",
     "text": [
      "2\n"
     ]
    }
   ],
   "source": [
    "print(len(X_train))\n",
    "print(len(y_train))\n",
    "print(len(X_test))\n",
    "print(len(y_test))\n",
    "#y_train[100:110]\n",
    "temp=X_train[102]\n",
    "temp = np.squeeze(temp, axis = 2)\n",
    "plt.imshow(temp)\n",
    "plt.show()\n",
    "print(y_train[102])"
   ]
  },
  {
   "cell_type": "code",
   "execution_count": 28,
   "metadata": {},
   "outputs": [
    {
     "data": {
      "text/plain": [
       "array([[1., 0., 0.],\n",
       "       [0., 0., 1.],\n",
       "       [0., 0., 1.],\n",
       "       [1., 0., 0.],\n",
       "       [0., 0., 1.],\n",
       "       [0., 1., 0.],\n",
       "       [1., 0., 0.],\n",
       "       [1., 0., 0.],\n",
       "       [0., 0., 1.],\n",
       "       [1., 0., 0.],\n",
       "       [1., 0., 0.],\n",
       "       [0., 0., 1.],\n",
       "       [0., 0., 1.],\n",
       "       [0., 0., 1.],\n",
       "       [0., 0., 1.],\n",
       "       [0., 1., 0.],\n",
       "       [1., 0., 0.],\n",
       "       [0., 0., 1.],\n",
       "       [1., 0., 0.]], dtype=float32)"
      ]
     },
     "execution_count": 28,
     "metadata": {},
     "output_type": "execute_result"
    }
   ],
   "source": [
    "from keras.utils.np_utils import to_categorical\n",
    "y_test = to_categorical(y_test)\n",
    "y_train = to_categorical(y_train)\n",
    "y_train[51:70]"
   ]
  },
  {
   "cell_type": "code",
   "execution_count": null,
   "metadata": {},
   "outputs": [
    {
     "name": "stdout",
     "output_type": "stream",
     "text": [
      "Training....\n",
      "WARNING:tensorflow:From C:\\Users\\DELL\\Anaconda3\\lib\\site-packages\\tensorflow\\python\\ops\\math_ops.py:3066: to_int32 (from tensorflow.python.ops.math_ops) is deprecated and will be removed in a future version.\n",
      "Instructions for updating:\n",
      "Use tf.cast instead.\n",
      "Train on 1236 samples, validate on 413 samples\n",
      "Epoch 1/5\n"
     ]
    }
   ],
   "source": [
    "# Final Model Architecture:\n",
    "from keras import layers\n",
    "from keras import models\n",
    "from keras import optimizers\n",
    "\n",
    "modelN = models.Sequential()\n",
    "modelN.add(layers.Conv2D(32, (3, 3), padding='same', activation='relu',\n",
    "                        input_shape=(576, 640, 1)))\n",
    "modelN.add(layers.Conv2D(32, (3, 3), padding='same', activation='relu'))\n",
    "modelN.add(layers.Conv2D(32, (3, 3), padding='same', activation='relu'))\n",
    "modelN.add(layers.MaxPooling2D(pool_size=(2, 2)))\n",
    "\n",
    "modelN.add(layers.Conv2D(64, (3, 3), padding='same', activation='relu'))\n",
    "modelN.add(layers.Conv2D(64, (3, 3), padding='same', activation='relu'))\n",
    "modelN.add(layers.Conv2D(64, (3, 3), padding='same', activation='relu'))\n",
    "modelN.add(layers.MaxPooling2D(pool_size=(2, 2)))\n",
    "\n",
    "modelN.add(layers.Conv2D(128, (3, 3), padding='same', activation='relu'))\n",
    "modelN.add(layers.Conv2D(128, (3, 3), padding='same', activation='relu'))\n",
    "modelN.add(layers.Conv2D(128, (3, 3), padding='same', activation='relu'))\n",
    "modelN.add(layers.MaxPooling2D(pool_size=(2, 2)))\n",
    "\n",
    "modelN.add(layers.Flatten())  # this converts our 3D feature maps to 1D feature vectors\n",
    "modelN.add(layers.Dense(64, activation='relu'))\n",
    "modelN.add(layers.Dense(64, activation='relu'))\n",
    "modelN.add(layers.Dense(3, activation='softmax'))\n",
    "\n",
    "# optimizer:\n",
    "modelN.compile(loss='categorical_crossentropy', optimizer='adam', metrics=['accuracy'])\n",
    "print ('Training....')\n",
    "\n",
    "\n",
    "#fit\n",
    "nb_epoch = 5\n",
    "batch_size = 128\n",
    "\n",
    "modelF = modelN.fit(X_train, y_train, nb_epoch=nb_epoch, batch_size=batch_size,\n",
    "          validation_data=(X_test, y_test), shuffle=True, verbose=1)"
   ]
  },
  {
   "cell_type": "code",
   "execution_count": 81,
   "metadata": {},
   "outputs": [
    {
     "data": {
      "image/png": "[encoded data removed]",
      "text/plain": [
       "<Figure size 432x288 with 1 Axes>"
      ]
     },
     "metadata": {
      "needs_background": "light"
     },
     "output_type": "display_data"
    },
    {
     "name": "stdout",
     "output_type": "stream",
     "text": [
      "[0. 0. 1.]\n"
     ]
    }
   ],
   "source": [
    "temp=X_train[102]\n",
    "temp = np.squeeze(temp, axis = 2)\n",
    "plt.imshow(temp)\n",
    "plt.show()\n",
    "print(y_train[102])"
   ]
  },
  {
   "cell_type": "code",
   "execution_count": 51,
   "metadata": {},
   "outputs": [
    {
     "name": "stdout",
     "output_type": "stream",
     "text": [
      "(100, 100)\n",
      "(1, 100, 100, 1)\n",
      "[[1.6278042e-08 1.0000000e+00 3.3535685e-09]] 1\n",
      "1\n"
     ]
    }
   ],
   "source": [
    "img1 = cv2.resize(temp, (100, 100)) #resize to 48x48\n",
    "print(img1.shape)\n",
    "img_pixels = image.img_to_array(img1)\n",
    "img_pixels = np.expand_dims(img_pixels, axis = 0)\n",
    "print(img_pixels.shape)\n",
    "y_prob = modelN.predict(img_pixels)\n",
    "y_pred = [np.argmax(prob) for prob in y_prob]\n",
    "#y_true = [np.argmax(true) for true in y]\n",
    "HAND = y_pred[0]\n",
    "\n",
    "\n",
    "print(y_prob,y_pred[0])\n",
    "print(HAND)"
   ]
  },
  {
   "cell_type": "code",
   "execution_count": 45,
   "metadata": {},
   "outputs": [],
   "source": [
    "import cv2\n",
    "from keras.models import load_model\n",
    "modelN = load_model('SPC_1')\n",
    "PLAY_DICT = {0:\"STONE\", 1:\"PAPER\", 2:\"SCISSOR\"}"
   ]
  },
  {
   "cell_type": "code",
   "execution_count": 44,
   "metadata": {},
   "outputs": [],
   "source": [
    "import numpy as np\n",
    "from keras_preprocessing import image\n",
    "#from keras.preprocessing.image import img_to_array, array_to_img\n"
   ]
  },
  {
   "cell_type": "code",
   "execution_count": 17,
   "metadata": {},
   "outputs": [],
   "source": []
  },
  {
   "cell_type": "code",
   "execution_count": 18,
   "metadata": {},
   "outputs": [],
   "source": []
  },
  {
   "cell_type": "code",
   "execution_count": 33,
   "metadata": {},
   "outputs": [],
   "source": []
  },
  {
   "cell_type": "code",
   "execution_count": null,
   "metadata": {},
   "outputs": [],
   "source": []
  },
  {
   "cell_type": "code",
   "execution_count": 12,
   "metadata": {},
   "outputs": [],
   "source": [
    "cap.release()\n",
    "cv2.destroyAllWindows()"
   ]
  },
  {
   "cell_type": "code",
   "execution_count": 87,
   "metadata": {},
   "outputs": [],
   "source": [
    "cap_region_x_begin = 0.5  # start point/total width\n",
    "cap_region_y_end = 0.8  # start point/total width\n",
    "threshold = 60  # binary threshold\n",
    "blurValue = 41  # GaussianBlur parameter\n",
    "bgSubThreshold = 50\n",
    "learningRate = 0\n",
    "hand_text=\"None\""
   ]
  },
  {
   "cell_type": "code",
   "execution_count": 4,
   "metadata": {},
   "outputs": [],
   "source": [
    "def remove_background(frame):\n",
    "    fgmask = bgModel.apply(frame, learningRate=learningRate)\n",
    "    kernel = np.ones((3, 3), np.uint8)\n",
    "    fgmask = cv2.erode(fgmask, kernel, iterations=1)\n",
    "    res = cv2.bitwise_and(frame, frame, mask=fgmask)\n",
    "    return res"
   ]
  },
  {
   "cell_type": "code",
   "execution_count": 89,
   "metadata": {},
   "outputs": [
    {
     "name": "stdout",
     "output_type": "stream",
     "text": [
      "(1, 100, 100, 1)\n",
      "[[1.9768284e-11 9.9893993e-01 1.0600453e-03]] 1\n",
      "1\n",
      "PAPER\n",
      "(1, 100, 100, 1)\n",
      "[[2.1123454e-15 5.4438011e-14 1.0000000e+00]] 2\n",
      "2\n",
      "SCISSOR\n",
      "(1, 100, 100, 1)\n",
      "[[7.1787155e-12 2.9200455e-09 1.0000000e+00]] 2\n",
      "2\n",
      "SCISSOR\n",
      "(1, 100, 100, 1)\n",
      "[[4.327422e-09 7.381256e-07 9.999993e-01]] 2\n",
      "2\n",
      "SCISSOR\n",
      "(1, 100, 100, 1)\n",
      "[[1.4868785e-11 6.2809796e-08 9.9999988e-01]] 2\n",
      "2\n",
      "SCISSOR\n",
      "(1, 100, 100, 1)\n",
      "[[2.8083663e-10 1.3984614e-08 1.0000000e+00]] 2\n",
      "2\n",
      "SCISSOR\n",
      "(1, 100, 100, 1)\n",
      "[[1.7187031e-06 5.3612040e-03 9.9463707e-01]] 2\n",
      "2\n",
      "SCISSOR\n",
      "(1, 100, 100, 1)\n",
      "[[7.5644846e-07 1.4565557e-03 9.9854267e-01]] 2\n",
      "2\n",
      "SCISSOR\n",
      "(1, 100, 100, 1)\n",
      "[[2.0014103e-10 4.7909083e-13 1.0000000e+00]] 2\n",
      "2\n",
      "SCISSOR\n"
     ]
    }
   ],
   "source": [
    "cap = cv2.VideoCapture(0)\n",
    "\n",
    "fgbg = cv2.createBackgroundSubtractorMOG2()\n",
    "\n",
    "while(1):\n",
    "    ret, img = cap.read()\n",
    "\n",
    "    #fgmask = fgbg.apply(img)\n",
    "    \n",
    "    #gray = cv2.cvtColor(img, cv2.COLOR_BGR2GRAY)\n",
    "    \n",
    "    font = cv2.FONT_HERSHEY_SIMPLEX\n",
    "    \n",
    "    cv2.putText(img, \"Last hand was \"+hand_text , (95,30), font, 1.0, (255, 0, 0), 2, cv2.LINE_AA)\n",
    "    \n",
    "    cv2.rectangle(img, (int(cap_region_x_begin * img.shape[1]), 60),(img.shape[1], int(cap_region_y_end * img.shape[0])), (255, 0, 0), 2)\n",
    "    #cv2.rectangle(img,int(cap_region_x_begin * img.shape[1]),int(cap_region_y_end * img.shape[0]),(0,0,255),5)\n",
    "    \n",
    "    cv2.putText(img, \"Press SPACE: FOR PLAYING\", (5,470), font, 0.7, (255, 0, 0), 2, cv2.LINE_AA)\n",
    "    \n",
    "    cv2.putText(img, \"Hold Q: To Quit\", (460,470), font, 0.7, (255, 0, 0), 2, cv2.LINE_AA)\n",
    "    \n",
    "    #silho = fgbg.apply(img)\n",
    "    cv2.imshow('img',img)\n",
    "    \n",
    "    \n",
    "    if cv2.waitKey(1) == ord(' '):\n",
    "            #img = fgbg.apply(img)\n",
    "            bgModel = cv2.createBackgroundSubtractorMOG2(0, bgSubThreshold)\n",
    "            img = cv2.bilateralFilter(img, 5, 50, 100)  # smoothing filter\n",
    "            #img = cv2.flip(img, 1)  # flip the frame horizontally\n",
    "            cv2.rectangle(img, (int(cap_region_x_begin * img.shape[1]), 60),(img.shape[1], int(cap_region_y_end * img.shape[0])), (255, 0, 0), 2)\n",
    "            img = remove_background(img)\n",
    "            img = img[60:int(cap_region_y_end * img.shape[0]), int(cap_region_x_begin * img.shape[1]):img.shape[1]]\n",
    "            gray = cv2.cvtColor(img, cv2.COLOR_BGR2GRAY)\n",
    "            blur = cv2.GaussianBlur(gray, (blurValue, blurValue), 0)\n",
    "            # cv2.imshow('blur', blur)\n",
    "            ret, thresh = cv2.threshold(blur, threshold, 255, cv2.THRESH_BINARY + cv2.THRESH_OTSU)\n",
    "            thresh=~thresh\n",
    "            cv2.imwrite(\"test.jpg\", thresh)\n",
    "            \n",
    "            \n",
    "            \n",
    "            img1 = cv2.imread(\"test.jpg\")\n",
    "            img1 = cv2.cvtColor(img1, cv2.COLOR_BGR2GRAY)\n",
    "            \n",
    "            img1 = cv2.resize(img1, (100, 100)) #resize to 48x48\n",
    "            \n",
    "            img_pixels = image.img_to_array(img1)\n",
    "            img_pixels = np.expand_dims(img_pixels, axis = 0)\n",
    "            print(img_pixels.shape)\n",
    "            y_prob = modelN.predict(img_pixels)\n",
    "            y_pred = [np.argmax(prob) for prob in y_prob]\n",
    "            #y_true = [np.argmax(true) for true in y]\n",
    "            HAND = y_pred[0]\n",
    "            \n",
    "\n",
    "            print(y_prob,y_pred[0])\n",
    "            print(HAND)\n",
    "            print(PLAY_DICT[HAND])\n",
    "            hand_text=PLAY_DICT[HAND]\n",
    "            \n",
    "            \n",
    "            \n",
    "            \n",
    "            \n",
    "            \n",
    "    \n",
    "    if cv2.waitKey(1) == ord('q'):\n",
    "            cap.release()\n",
    "            cv2.destroyAllWindows()\n",
    "            break\n",
    "\n",
    "cap.release()\n",
    "cv2.destroyAllWindows()"
   ]
  },
  {
   "cell_type": "code",
   "execution_count": 7,
   "metadata": {},
   "outputs": [
    {
     "name": "stdout",
     "output_type": "stream",
     "text": [
      "(384, 320, 3)\n",
      "(384, 320)\n",
      "(100, 100)\n",
      "(1, 100, 100, 1)\n",
      "[[1.4528899e-10 4.0311730e-05 9.9995971e-01]] 2\n",
      "2\n"
     ]
    }
   ],
   "source": [
    "img1 = cv2.imread(\"test.jpg\")\n",
    "print(img1.shape)\n",
    "img1 = cv2.cvtColor(img1, cv2.COLOR_BGR2GRAY)\n",
    "print(img1.shape)\n",
    "img1 = cv2.resize(img1, (100, 100)) #resize to 48x48\n",
    "print(img1.shape)\n",
    "img_pixels = image.img_to_array(img1)\n",
    "img_pixels = np.expand_dims(img_pixels, axis = 0)\n",
    "print(img_pixels.shape)\n",
    "y_prob = modelN.predict(img_pixels)\n",
    "y_pred = [np.argmax(prob) for prob in y_prob]\n",
    "#y_true = [np.argmax(true) for true in y]\n",
    "HAND = y_pred[0]\n",
    "\n",
    "\n",
    "print(y_prob,y_pred[0])\n",
    "print(HAND)"
   ]
  },
  {
   "cell_type": "code",
   "execution_count": 72,
   "metadata": {},
   "outputs": [],
   "source": [
    "model = load_model('VGG_cross_validated.h5')\n",
    "def predict_rgb_image(img):\n",
    "    result = model.predict(img)[0]\n",
    "    print(result)\n",
    "    return (result)"
   ]
  },
  {
   "cell_type": "code",
   "execution_count": 84,
   "metadata": {},
   "outputs": [
    {
     "name": "stdout",
     "output_type": "stream",
     "text": [
      "(224, 224, 3)\n",
      "(1, 224, 224, 3)\n"
     ]
    },
    {
     "ename": "TypeError",
     "evalue": "Invalid dimensions for image data",
     "output_type": "error",
     "traceback": [
      "\u001b[1;31m---------------------------------------------------------------------------\u001b[0m",
      "\u001b[1;31mTypeError\u001b[0m                                 Traceback (most recent call last)",
      "\u001b[1;32m<ipython-input-84-a6cef1e542f0>\u001b[0m in \u001b[0;36m<module>\u001b[1;34m\u001b[0m\n\u001b[0;32m      5\u001b[0m \u001b[0mimg_pixels\u001b[0m \u001b[1;33m=\u001b[0m \u001b[0mnp\u001b[0m\u001b[1;33m.\u001b[0m\u001b[0mexpand_dims\u001b[0m\u001b[1;33m(\u001b[0m\u001b[0mimg_pixels\u001b[0m\u001b[1;33m,\u001b[0m \u001b[0maxis\u001b[0m \u001b[1;33m=\u001b[0m \u001b[1;36m0\u001b[0m\u001b[1;33m)\u001b[0m\u001b[1;33m\u001b[0m\u001b[1;33m\u001b[0m\u001b[0m\n\u001b[0;32m      6\u001b[0m \u001b[0mprint\u001b[0m\u001b[1;33m(\u001b[0m\u001b[0mimg_pixels\u001b[0m\u001b[1;33m.\u001b[0m\u001b[0mshape\u001b[0m\u001b[1;33m)\u001b[0m\u001b[1;33m\u001b[0m\u001b[1;33m\u001b[0m\u001b[0m\n\u001b[1;32m----> 7\u001b[1;33m \u001b[0mplt\u001b[0m\u001b[1;33m.\u001b[0m\u001b[0mimshow\u001b[0m\u001b[1;33m(\u001b[0m\u001b[0mimg_pixels\u001b[0m\u001b[1;33m)\u001b[0m\u001b[1;33m\u001b[0m\u001b[1;33m\u001b[0m\u001b[0m\n\u001b[0m\u001b[0;32m      8\u001b[0m \u001b[0mplt\u001b[0m\u001b[1;33m.\u001b[0m\u001b[0mshow\u001b[0m\u001b[1;33m(\u001b[0m\u001b[1;33m)\u001b[0m\u001b[1;33m\u001b[0m\u001b[1;33m\u001b[0m\u001b[0m\n\u001b[0;32m      9\u001b[0m \u001b[1;33m\u001b[0m\u001b[0m\n",
      "\u001b[1;32m~\\Anaconda3\\lib\\site-packages\\matplotlib\\pyplot.py\u001b[0m in \u001b[0;36mimshow\u001b[1;34m(X, cmap, norm, aspect, interpolation, alpha, vmin, vmax, origin, extent, shape, filternorm, filterrad, imlim, resample, url, data, **kwargs)\u001b[0m\n\u001b[0;32m   2699\u001b[0m         \u001b[0mfilternorm\u001b[0m\u001b[1;33m=\u001b[0m\u001b[0mfilternorm\u001b[0m\u001b[1;33m,\u001b[0m \u001b[0mfilterrad\u001b[0m\u001b[1;33m=\u001b[0m\u001b[0mfilterrad\u001b[0m\u001b[1;33m,\u001b[0m \u001b[0mimlim\u001b[0m\u001b[1;33m=\u001b[0m\u001b[0mimlim\u001b[0m\u001b[1;33m,\u001b[0m\u001b[1;33m\u001b[0m\u001b[1;33m\u001b[0m\u001b[0m\n\u001b[0;32m   2700\u001b[0m         resample=resample, url=url, **({\"data\": data} if data is not\n\u001b[1;32m-> 2701\u001b[1;33m         None else {}), **kwargs)\n\u001b[0m\u001b[0;32m   2702\u001b[0m     \u001b[0msci\u001b[0m\u001b[1;33m(\u001b[0m\u001b[0m__ret\u001b[0m\u001b[1;33m)\u001b[0m\u001b[1;33m\u001b[0m\u001b[1;33m\u001b[0m\u001b[0m\n\u001b[0;32m   2703\u001b[0m     \u001b[1;32mreturn\u001b[0m \u001b[0m__ret\u001b[0m\u001b[1;33m\u001b[0m\u001b[1;33m\u001b[0m\u001b[0m\n",
      "\u001b[1;32m~\\Anaconda3\\lib\\site-packages\\matplotlib\\__init__.py\u001b[0m in \u001b[0;36minner\u001b[1;34m(ax, data, *args, **kwargs)\u001b[0m\n\u001b[0;32m   1808\u001b[0m                         \u001b[1;34m\"the Matplotlib list!)\"\u001b[0m \u001b[1;33m%\u001b[0m \u001b[1;33m(\u001b[0m\u001b[0mlabel_namer\u001b[0m\u001b[1;33m,\u001b[0m \u001b[0mfunc\u001b[0m\u001b[1;33m.\u001b[0m\u001b[0m__name__\u001b[0m\u001b[1;33m)\u001b[0m\u001b[1;33m,\u001b[0m\u001b[1;33m\u001b[0m\u001b[1;33m\u001b[0m\u001b[0m\n\u001b[0;32m   1809\u001b[0m                         RuntimeWarning, stacklevel=2)\n\u001b[1;32m-> 1810\u001b[1;33m             \u001b[1;32mreturn\u001b[0m \u001b[0mfunc\u001b[0m\u001b[1;33m(\u001b[0m\u001b[0max\u001b[0m\u001b[1;33m,\u001b[0m \u001b[1;33m*\u001b[0m\u001b[0margs\u001b[0m\u001b[1;33m,\u001b[0m \u001b[1;33m**\u001b[0m\u001b[0mkwargs\u001b[0m\u001b[1;33m)\u001b[0m\u001b[1;33m\u001b[0m\u001b[1;33m\u001b[0m\u001b[0m\n\u001b[0m\u001b[0;32m   1811\u001b[0m \u001b[1;33m\u001b[0m\u001b[0m\n\u001b[0;32m   1812\u001b[0m         inner.__doc__ = _add_data_doc(inner.__doc__,\n",
      "\u001b[1;32m~\\Anaconda3\\lib\\site-packages\\matplotlib\\axes\\_axes.py\u001b[0m in \u001b[0;36mimshow\u001b[1;34m(self, X, cmap, norm, aspect, interpolation, alpha, vmin, vmax, origin, extent, shape, filternorm, filterrad, imlim, resample, url, **kwargs)\u001b[0m\n\u001b[0;32m   5492\u001b[0m                               resample=resample, **kwargs)\n\u001b[0;32m   5493\u001b[0m \u001b[1;33m\u001b[0m\u001b[0m\n\u001b[1;32m-> 5494\u001b[1;33m         \u001b[0mim\u001b[0m\u001b[1;33m.\u001b[0m\u001b[0mset_data\u001b[0m\u001b[1;33m(\u001b[0m\u001b[0mX\u001b[0m\u001b[1;33m)\u001b[0m\u001b[1;33m\u001b[0m\u001b[1;33m\u001b[0m\u001b[0m\n\u001b[0m\u001b[0;32m   5495\u001b[0m         \u001b[0mim\u001b[0m\u001b[1;33m.\u001b[0m\u001b[0mset_alpha\u001b[0m\u001b[1;33m(\u001b[0m\u001b[0malpha\u001b[0m\u001b[1;33m)\u001b[0m\u001b[1;33m\u001b[0m\u001b[1;33m\u001b[0m\u001b[0m\n\u001b[0;32m   5496\u001b[0m         \u001b[1;32mif\u001b[0m \u001b[0mim\u001b[0m\u001b[1;33m.\u001b[0m\u001b[0mget_clip_path\u001b[0m\u001b[1;33m(\u001b[0m\u001b[1;33m)\u001b[0m \u001b[1;32mis\u001b[0m \u001b[1;32mNone\u001b[0m\u001b[1;33m:\u001b[0m\u001b[1;33m\u001b[0m\u001b[1;33m\u001b[0m\u001b[0m\n",
      "\u001b[1;32m~\\Anaconda3\\lib\\site-packages\\matplotlib\\image.py\u001b[0m in \u001b[0;36mset_data\u001b[1;34m(self, A)\u001b[0m\n\u001b[0;32m    644\u001b[0m         if not (self._A.ndim == 2\n\u001b[0;32m    645\u001b[0m                 or self._A.ndim == 3 and self._A.shape[-1] in [3, 4]):\n\u001b[1;32m--> 646\u001b[1;33m             \u001b[1;32mraise\u001b[0m \u001b[0mTypeError\u001b[0m\u001b[1;33m(\u001b[0m\u001b[1;34m\"Invalid dimensions for image data\"\u001b[0m\u001b[1;33m)\u001b[0m\u001b[1;33m\u001b[0m\u001b[1;33m\u001b[0m\u001b[0m\n\u001b[0m\u001b[0;32m    647\u001b[0m \u001b[1;33m\u001b[0m\u001b[0m\n\u001b[0;32m    648\u001b[0m         \u001b[1;32mif\u001b[0m \u001b[0mself\u001b[0m\u001b[1;33m.\u001b[0m\u001b[0m_A\u001b[0m\u001b[1;33m.\u001b[0m\u001b[0mndim\u001b[0m \u001b[1;33m==\u001b[0m \u001b[1;36m3\u001b[0m\u001b[1;33m:\u001b[0m\u001b[1;33m\u001b[0m\u001b[1;33m\u001b[0m\u001b[0m\n",
      "\u001b[1;31mTypeError\u001b[0m: Invalid dimensions for image data"
     ]
    },
    {
     "data": {
      "image/png": "[encoded data removed]",
      "text/plain": [
       "<Figure size 432x288 with 1 Axes>"
      ]
     },
     "metadata": {
      "needs_background": "light"
     },
     "output_type": "display_data"
    }
   ],
   "source": [
    "#temp = cv2.cvtColor(temp,cv2.COLOR_GRAY2RGB)\n",
    "img1 = cv2.resize(temp, (224, 224)) #resize to 48x48\n",
    "print(img1.shape)\n",
    "img_pixels = image.img_to_array(img1)\n",
    "img_pixels = np.expand_dims(img_pixels, axis = 0)\n",
    "print(img_pixels.shape)\n",
    "plt.imshow(img_pixels)\n",
    "plt.show()\n",
    "\n",
    "\n",
    "\n",
    "\n",
    "\n",
    "\n",
    "model.predict(img_pixels)\n",
    "y_pred = [np.argmax(prob) for prob in y_prob]\n",
    "#y_true = [np.argmax(true) for true in y]\n",
    "print(y_prob,y_pred[0])\n",
    "print(HAND)\n",
    "\n",
    "HAND = y_pred[0]\n"
   ]
  },
  {
   "cell_type": "code",
   "execution_count": null,
   "metadata": {},
   "outputs": [],
   "source": []
  }
 ],
 "metadata": {
  "kernelspec": {
   "display_name": "Python 3",
   "language": "python",
   "name": "python3"
  },
  "language_info": {
   "codemirror_mode": {
    "name": "ipython",
    "version": 3
   },
   "file_extension": ".py",
   "mimetype": "text/x-python",
   "name": "python",
   "nbconvert_exporter": "python",
   "pygments_lexer": "ipython3",
   "version": "3.6.8"
  }
 },
 "nbformat": 4,
 "nbformat_minor": 2
}
